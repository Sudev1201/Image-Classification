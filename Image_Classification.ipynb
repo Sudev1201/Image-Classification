{
  "nbformat": 4,
  "nbformat_minor": 0,
  "metadata": {
    "colab": {
      "name": "Image Classification.ipynb",
      "provenance": [],
      "authorship_tag": "ABX9TyPvSzTLf8fuienhCXdPEvfd",
      "include_colab_link": true
    },
    "kernelspec": {
      "name": "python3",
      "display_name": "Python 3"
    },
    "language_info": {
      "name": "python"
    }
  },
  "cells": [
    {
      "cell_type": "markdown",
      "metadata": {
        "id": "view-in-github",
        "colab_type": "text"
      },
      "source": [
        "<a href=\"https://colab.research.google.com/github/Sudev1201/Mini-Project/blob/main/Image_Classification.ipynb\" target=\"_parent\"><img src=\"https://colab.research.google.com/assets/colab-badge.svg\" alt=\"Open In Colab\"/></a>"
      ]
    },
    {
      "cell_type": "code",
      "metadata": {
        "colab": {
          "base_uri": "https://localhost:8080/"
        },
        "id": "vycPPrI3yjtQ",
        "outputId": "d8f8a482-6617-4df7-f51e-665a84cdec37"
      },
      "source": [
        "!pip install ipython-autotime\n",
        "%load_ext autotime"
      ],
      "execution_count": null,
      "outputs": [
        {
          "output_type": "stream",
          "text": [
            "Collecting ipython-autotime\n",
            "  Downloading https://files.pythonhosted.org/packages/b4/c9/b413a24f759641bc27ef98c144b590023c8038dfb8a3f09e713e9dff12c1/ipython_autotime-0.3.1-py2.py3-none-any.whl\n",
            "Requirement already satisfied: ipython in /usr/local/lib/python3.7/dist-packages (from ipython-autotime) (5.5.0)\n",
            "Requirement already satisfied: pexpect; sys_platform != \"win32\" in /usr/local/lib/python3.7/dist-packages (from ipython->ipython-autotime) (4.8.0)\n",
            "Requirement already satisfied: pygments in /usr/local/lib/python3.7/dist-packages (from ipython->ipython-autotime) (2.6.1)\n",
            "Requirement already satisfied: setuptools>=18.5 in /usr/local/lib/python3.7/dist-packages (from ipython->ipython-autotime) (56.1.0)\n",
            "Requirement already satisfied: decorator in /usr/local/lib/python3.7/dist-packages (from ipython->ipython-autotime) (4.4.2)\n",
            "Requirement already satisfied: simplegeneric>0.8 in /usr/local/lib/python3.7/dist-packages (from ipython->ipython-autotime) (0.8.1)\n",
            "Requirement already satisfied: pickleshare in /usr/local/lib/python3.7/dist-packages (from ipython->ipython-autotime) (0.7.5)\n",
            "Requirement already satisfied: traitlets>=4.2 in /usr/local/lib/python3.7/dist-packages (from ipython->ipython-autotime) (5.0.5)\n",
            "Requirement already satisfied: prompt-toolkit<2.0.0,>=1.0.4 in /usr/local/lib/python3.7/dist-packages (from ipython->ipython-autotime) (1.0.18)\n",
            "Requirement already satisfied: ptyprocess>=0.5 in /usr/local/lib/python3.7/dist-packages (from pexpect; sys_platform != \"win32\"->ipython->ipython-autotime) (0.7.0)\n",
            "Requirement already satisfied: ipython-genutils in /usr/local/lib/python3.7/dist-packages (from traitlets>=4.2->ipython->ipython-autotime) (0.2.0)\n",
            "Requirement already satisfied: six>=1.9.0 in /usr/local/lib/python3.7/dist-packages (from prompt-toolkit<2.0.0,>=1.0.4->ipython->ipython-autotime) (1.15.0)\n",
            "Requirement already satisfied: wcwidth in /usr/local/lib/python3.7/dist-packages (from prompt-toolkit<2.0.0,>=1.0.4->ipython->ipython-autotime) (0.2.5)\n",
            "Installing collected packages: ipython-autotime\n",
            "Successfully installed ipython-autotime-0.3.1\n",
            "time: 2.51 ms (started: 2021-05-21 11:58:54 +00:00)\n"
          ],
          "name": "stdout"
        }
      ]
    },
    {
      "cell_type": "code",
      "metadata": {
        "colab": {
          "base_uri": "https://localhost:8080/"
        },
        "id": "2v4Ncnddyq86",
        "outputId": "c8024281-5c3c-4a13-f96c-3be95f79dbdd"
      },
      "source": [
        "!pip install bing-image-downloader"
      ],
      "execution_count": null,
      "outputs": [
        {
          "output_type": "stream",
          "text": [
            "Collecting bing-image-downloader\n",
            "  Downloading https://files.pythonhosted.org/packages/0d/bf/537a61030b84ae4cd5022d5c7b014fd9bc3ce7c02358919153a6658a61d3/bing_image_downloader-1.0.4-py3-none-any.whl\n",
            "Installing collected packages: bing-image-downloader\n",
            "Successfully installed bing-image-downloader-1.0.4\n",
            "time: 3.03 s (started: 2021-05-21 11:58:54 +00:00)\n"
          ],
          "name": "stdout"
        }
      ]
    },
    {
      "cell_type": "code",
      "metadata": {
        "colab": {
          "base_uri": "https://localhost:8080/"
        },
        "id": "1dtDXayOysW7",
        "outputId": "2b0f7040-485c-4074-8c94-084dd11bca46"
      },
      "source": [
        "!mkdir images\n"
      ],
      "execution_count": null,
      "outputs": [
        {
          "output_type": "stream",
          "text": [
            "time: 119 ms (started: 2021-05-21 11:59:24 +00:00)\n"
          ],
          "name": "stdout"
        }
      ]
    },
    {
      "cell_type": "code",
      "metadata": {
        "colab": {
          "base_uri": "https://localhost:8080/"
        },
        "id": "OeRdJtuI7AV9",
        "outputId": "429e7b87-f244-40c8-a4eb-ac9297592e74"
      },
      "source": [
        "from bing_image_downloader import downloader\n",
        "downloader.download(\"pretty sunflower\",limit=30,output_dir='images',adult_filter_off=True)"
      ],
      "execution_count": null,
      "outputs": [
        {
          "output_type": "stream",
          "text": [
            "\n",
            "\n",
            "[!!]Indexing page: 1\n",
            "\n",
            "[%] Indexed 10 Images on Page 1.\n",
            "\n",
            "===============================================\n",
            "\n",
            "[%] Downloading Image #1 from https://www.desktopbackground.org/download/720x1280/2012/12/21/502473_beautiful-sunflower-wallpapers-image_2560x1600_h.jpg\n",
            "[%] File Downloaded !\n",
            "\n",
            "[%] Downloading Image #2 from http://www.tattoosbag.com/wp-content/uploads/2016/09/Nice-Looking-Sunflower-Tattoo.jpg\n",
            "[%] File Downloaded !\n",
            "\n",
            "[%] Downloading Image #3 from https://68.media.tumblr.com/bcbfde908ca4876556280cd145b6df88/tumblr_nmja16eL8O1tcv5iwo1_500.jpg\n",
            "[%] File Downloaded !\n",
            "\n",
            "[%] Downloading Image #4 from http://cdn.shopify.com/s/files/1/1122/4336/products/Vevet_Queen_2_1024x1024.jpg?v=1454616220\n",
            "[%] File Downloaded !\n",
            "\n",
            "[%] Downloading Image #5 from https://i2.wp.com/www.ecstasycoffee.com/wp-content/uploads/2016/09/Pretty-sunflower-tattoo-design-with-a-bird-flying-above-it..jpg\n",
            "[%] File Downloaded !\n",
            "\n",
            "[%] Downloading Image #6 from https://tattooblend.com/wp-content/uploads/2016/02/sunflower-tattoo-copy.jpg\n",
            "[%] File Downloaded !\n",
            "\n",
            "[%] Downloading Image #7 from https://emmalovesweddings.com/wp-content/uploads/2019/08/sunflower-cascading-wedding-bouquet-ideas.jpg\n",
            "[%] File Downloaded !\n",
            "\n",
            "[%] Downloading Image #8 from https://thestyleup.com/wp-content/uploads/2015/02/sexiest-thigh-tattoos-90.jpg\n",
            "[%] File Downloaded !\n",
            "\n",
            "[%] Downloading Image #9 from https://i.pinimg.com/736x/84/b4/b5/84b4b5f7b3c3084508e6f0e62e5183ee.jpg\n",
            "[%] File Downloaded !\n",
            "\n",
            "[%] Downloading Image #10 from http://ohbestdayever.com/wp-content/uploads/2017/12/royal-blue-and-sunflower-yellow-wedding-centerpiece-ideas.jpg\n",
            "[%] File Downloaded !\n",
            "\n",
            "\n",
            "\n",
            "[!!]Indexing page: 2\n",
            "\n",
            "[%] Indexed 10 Images on Page 2.\n",
            "\n",
            "===============================================\n",
            "\n",
            "[%] Downloading Image #11 from https://www.desktopbackground.org/download/720x1280/2012/12/21/502473_beautiful-sunflower-wallpapers-image_2560x1600_h.jpg\n",
            "[%] File Downloaded !\n",
            "\n",
            "[%] Downloading Image #12 from http://www.tattoosbag.com/wp-content/uploads/2016/09/Nice-Looking-Sunflower-Tattoo.jpg\n",
            "[%] File Downloaded !\n",
            "\n",
            "[%] Downloading Image #13 from https://68.media.tumblr.com/bcbfde908ca4876556280cd145b6df88/tumblr_nmja16eL8O1tcv5iwo1_500.jpg\n",
            "[%] File Downloaded !\n",
            "\n",
            "[%] Downloading Image #14 from http://cdn.shopify.com/s/files/1/1122/4336/products/Vevet_Queen_2_1024x1024.jpg?v=1454616220\n",
            "[%] File Downloaded !\n",
            "\n",
            "[%] Downloading Image #15 from https://i2.wp.com/www.ecstasycoffee.com/wp-content/uploads/2016/09/Pretty-sunflower-tattoo-design-with-a-bird-flying-above-it..jpg\n",
            "[%] File Downloaded !\n",
            "\n",
            "[%] Downloading Image #16 from https://tattooblend.com/wp-content/uploads/2016/02/sunflower-tattoo-copy.jpg\n",
            "[%] File Downloaded !\n",
            "\n",
            "[%] Downloading Image #17 from https://emmalovesweddings.com/wp-content/uploads/2019/08/sunflower-cascading-wedding-bouquet-ideas.jpg\n",
            "[%] File Downloaded !\n",
            "\n",
            "[%] Downloading Image #18 from https://thestyleup.com/wp-content/uploads/2015/02/sexiest-thigh-tattoos-90.jpg\n",
            "[%] File Downloaded !\n",
            "\n",
            "[%] Downloading Image #19 from https://i.pinimg.com/736x/84/b4/b5/84b4b5f7b3c3084508e6f0e62e5183ee.jpg\n",
            "[%] File Downloaded !\n",
            "\n",
            "[%] Downloading Image #20 from http://ohbestdayever.com/wp-content/uploads/2017/12/royal-blue-and-sunflower-yellow-wedding-centerpiece-ideas.jpg\n",
            "[%] File Downloaded !\n",
            "\n",
            "\n",
            "\n",
            "[!!]Indexing page: 3\n",
            "\n",
            "[%] Indexed 9 Images on Page 3.\n",
            "\n",
            "===============================================\n",
            "\n",
            "[%] Downloading Image #21 from https://68.media.tumblr.com/bcbfde908ca4876556280cd145b6df88/tumblr_nmja16eL8O1tcv5iwo1_500.jpg\n",
            "[%] File Downloaded !\n",
            "\n",
            "[%] Downloading Image #22 from http://cdn.shopify.com/s/files/1/1122/4336/products/Vevet_Queen_2_1024x1024.jpg?v=1454616220\n",
            "[%] File Downloaded !\n",
            "\n",
            "[%] Downloading Image #23 from http://ohbestdayever.com/wp-content/uploads/2017/12/royal-blue-and-sunflower-yellow-wedding-centerpiece-ideas.jpg\n",
            "[%] File Downloaded !\n",
            "\n",
            "[%] Downloading Image #24 from https://emmalovesweddings.com/wp-content/uploads/2019/08/sunflower-cascading-wedding-bouquet-ideas.jpg\n",
            "[%] File Downloaded !\n",
            "\n",
            "[%] Downloading Image #25 from http://www.tattoosbag.com/wp-content/uploads/2016/09/Nice-Looking-Sunflower-Tattoo.jpg\n",
            "[%] File Downloaded !\n",
            "\n",
            "[%] Downloading Image #26 from https://i.pinimg.com/736x/84/b4/b5/84b4b5f7b3c3084508e6f0e62e5183ee.jpg\n",
            "[%] File Downloaded !\n",
            "\n",
            "[%] Downloading Image #27 from https://tattooblend.com/wp-content/uploads/2016/02/sunflower-tattoo-copy.jpg\n",
            "[%] File Downloaded !\n",
            "\n",
            "[%] Downloading Image #28 from https://i2.wp.com/www.ecstasycoffee.com/wp-content/uploads/2016/09/Pretty-sunflower-tattoo-design-with-a-bird-flying-above-it..jpg\n",
            "[%] File Downloaded !\n",
            "\n",
            "[%] Downloading Image #29 from https://thestyleup.com/wp-content/uploads/2015/02/sexiest-thigh-tattoos-90.jpg\n",
            "[%] File Downloaded !\n",
            "\n",
            "\n",
            "\n",
            "[!!]Indexing page: 4\n",
            "\n",
            "[%] Indexed 8 Images on Page 4.\n",
            "\n",
            "===============================================\n",
            "\n",
            "[%] Downloading Image #30 from http://cdn.shopify.com/s/files/1/1122/4336/products/Vevet_Queen_2_1024x1024.jpg?v=1454616220\n",
            "[%] File Downloaded !\n",
            "\n",
            "\n",
            "\n",
            "[%] Done. Downloaded 30 images.\n",
            "\n",
            "===============================================\n",
            "\n",
            "time: 6.04 s (started: 2021-05-21 12:47:48 +00:00)\n"
          ],
          "name": "stdout"
        }
      ]
    },
    {
      "cell_type": "code",
      "metadata": {
        "colab": {
          "base_uri": "https://localhost:8080/"
        },
        "id": "_R6JYsbW97MP",
        "outputId": "b6da2592-628a-47e8-e08b-636f9cdff998"
      },
      "source": [
        "downloader.download(\"rugby ball leather\",limit=30,output_dir='images',adult_filter_off=True)"
      ],
      "execution_count": null,
      "outputs": [
        {
          "output_type": "stream",
          "text": [
            "\n",
            "\n",
            "[!!]Indexing page: 1\n",
            "\n",
            "[%] Indexed 10 Images on Page 1.\n",
            "\n",
            "===============================================\n",
            "\n",
            "[%] Downloading Image #1 from https://www.sportsballshop.co.uk/acatalog/GSTLeatherFront.jpg\n",
            "[%] File Downloaded !\n",
            "\n",
            "[%] Downloading Image #2 from http://cdn.shopify.com/s/files/1/0788/5979/products/mvp-leather-balls-executive-leather-32p-soccer-ball-2_1024x1024.jpg?v=1548126529\n",
            "[%] File Downloaded !\n",
            "\n",
            "[%] Downloading Image #3 from https://www.cgstudio.com/imgd/l/17/58aaf6dca70248a0408b4567/rugby_ball_gilbert_03.jpg\n",
            "[%] File Downloaded !\n",
            "\n",
            "[%] Downloading Image #4 from https://www.prodirectrugby.com/productimages/V3_1_Main/62296.jpg\n",
            "[!] Issue getting: https://www.prodirectrugby.com/productimages/V3_1_Main/62296.jpg\n",
            "[!] Error:: HTTP Error 403: Forbidden\n",
            "[%] Downloading Image #4 from https://cdn.shopify.com/s/files/1/0020/1025/1324/products/32p_black_960x.png?v=1534865418\n",
            "[%] File Downloaded !\n",
            "\n",
            "[%] Downloading Image #5 from https://media.istockphoto.com/vectors/basketball-or-football-ball-texture-vector-id674391316?s=170667a\n",
            "[%] File Downloaded !\n",
            "\n",
            "[%] Downloading Image #6 from https://meltonenterprises.net/wp-content/uploads/2016/10/rubber-ball-low-bounce.jpg\n",
            "[%] File Downloaded !\n",
            "\n",
            "[%] Downloading Image #7 from https://static.vecteezy.com/system/resources/previews/000/104/890/original/football-texture-background-vector.jpg\n",
            "[%] File Downloaded !\n",
            "\n",
            "[%] Downloading Image #8 from https://cdn.pixabay.com/photo/2014/04/02/16/19/american-football-306935_960_720.png\n",
            "[%] File Downloaded !\n",
            "\n",
            "[%] Downloading Image #9 from https://thumbs.dreamstime.com/z/american-football-ball-character-patriotic-hat-usa-flag-cartoon-33556028.jpg\n",
            "[%] File Downloaded !\n",
            "\n",
            "\n",
            "\n",
            "[!!]Indexing page: 2\n",
            "\n",
            "[%] Indexed 10 Images on Page 2.\n",
            "\n",
            "===============================================\n",
            "\n",
            "[%] Downloading Image #10 from https://www.sportsballshop.co.uk/acatalog/GSTLeatherFront.jpg\n",
            "[%] File Downloaded !\n",
            "\n",
            "[%] Downloading Image #11 from http://cdn.shopify.com/s/files/1/0788/5979/products/mvp-leather-balls-executive-leather-32p-soccer-ball-2_1024x1024.jpg?v=1548126529\n",
            "[%] File Downloaded !\n",
            "\n",
            "[%] Downloading Image #12 from https://www.cgstudio.com/imgd/l/17/58aaf6dca70248a0408b4567/rugby_ball_gilbert_03.jpg\n",
            "[%] File Downloaded !\n",
            "\n",
            "[%] Downloading Image #13 from https://www.prodirectrugby.com/productimages/V3_1_Main/62296.jpg\n",
            "[!] Issue getting: https://www.prodirectrugby.com/productimages/V3_1_Main/62296.jpg\n",
            "[!] Error:: HTTP Error 403: Forbidden\n",
            "[%] Downloading Image #13 from https://cdn.shopify.com/s/files/1/0020/1025/1324/products/32p_black_960x.png?v=1534865418\n",
            "[%] File Downloaded !\n",
            "\n",
            "[%] Downloading Image #14 from https://media.istockphoto.com/vectors/basketball-or-football-ball-texture-vector-id674391316?s=170667a\n",
            "[%] File Downloaded !\n",
            "\n",
            "[%] Downloading Image #15 from https://meltonenterprises.net/wp-content/uploads/2016/10/rubber-ball-low-bounce.jpg\n",
            "[%] File Downloaded !\n",
            "\n",
            "[%] Downloading Image #16 from https://static.vecteezy.com/system/resources/previews/000/104/890/original/football-texture-background-vector.jpg\n",
            "[%] File Downloaded !\n",
            "\n",
            "[%] Downloading Image #17 from https://cdn.pixabay.com/photo/2014/04/02/16/19/american-football-306935_960_720.png\n",
            "[%] File Downloaded !\n",
            "\n",
            "[%] Downloading Image #18 from https://thumbs.dreamstime.com/z/american-football-ball-character-patriotic-hat-usa-flag-cartoon-33556028.jpg\n",
            "[%] File Downloaded !\n",
            "\n",
            "\n",
            "\n",
            "[!!]Indexing page: 3\n",
            "\n",
            "[%] Indexed 8 Images on Page 3.\n",
            "\n",
            "===============================================\n",
            "\n",
            "[%] Downloading Image #19 from https://cdn.shopify.com/s/files/1/0068/0227/6407/products/48432105_Ball_Supporter_6_Nations_Guinness_Size_5_1024x1024.jpg?v=1578402695\n",
            "[%] File Downloaded !\n",
            "\n",
            "[%] Downloading Image #20 from https://www.mullocksauctions.co.uk/cd-content/uploads/images/lots/SM-05Sept2012D/1173.jpg\n",
            "[%] File Downloaded !\n",
            "\n",
            "[%] Downloading Image #21 from https://www.molten.co.jp/sports/en/basketball/product/basketball/detail/img/bgg7x_480480_ph006.jpg\n",
            "[%] File Downloaded !\n",
            "\n",
            "[%] Downloading Image #22 from https://www.allsportvintage.com/460-thickbox_default/vintage-leather-hand-ball.jpg\n",
            "[%] File Downloaded !\n",
            "\n",
            "[%] Downloading Image #23 from https://upload.wikimedia.org/wikipedia/commons/thumb/3/35/Richard_Lindon_(1816-1887).jpg/1200px-Richard_Lindon_(1816-1887).jpg\n",
            "[%] File Downloaded !\n",
            "\n",
            "[%] Downloading Image #24 from http://www.prodirectrugby.com/productimages/V3_1_Main/82143.jpg\n",
            "[!] Issue getting: http://www.prodirectrugby.com/productimages/V3_1_Main/82143.jpg\n",
            "[!] Error:: HTTP Error 403: Forbidden\n",
            "[%] Downloading Image #24 from http://thefunnybeaver.com/wp-content/uploads/2016/04/Tin-Cup-Golf-Ball-Custom-Marker-Alignment-Tool-pictures-005.jpg\n",
            "[%] File Downloaded !\n",
            "\n",
            "[%] Downloading Image #25 from https://static.vecteezy.com/system/resources/previews/000/076/176/original/soccer-ball-vector.jpg\n",
            "[%] File Downloaded !\n",
            "\n",
            "\n",
            "\n",
            "[!!]Indexing page: 4\n",
            "\n",
            "[%] Indexed 8 Images on Page 4.\n",
            "\n",
            "===============================================\n",
            "\n",
            "[%] Downloading Image #26 from https://img1.etsystatic.com/044/0/7864717/il_fullxfull.644349439_g0x6.jpg\n",
            "[%] File Downloaded !\n",
            "\n",
            "[%] Downloading Image #27 from http://www.sportsballshop.co.uk/acatalog/ClubOrange.jpg\n",
            "[%] File Downloaded !\n",
            "\n",
            "[%] Downloading Image #28 from https://www.sportsballshop.co.uk/acatalog/gripcontrol1.jpg\n",
            "[%] File Downloaded !\n",
            "\n",
            "[%] Downloading Image #29 from https://www.john-woodbridge.com/1009-large_default/1930s-football.jpg\n",
            "[%] File Downloaded !\n",
            "\n",
            "[%] Downloading Image #30 from http://www.molten.co.jp/sports/en/football/product/football/detail/img/f5v5000_480480_ph001.jpg\n",
            "[%] File Downloaded !\n",
            "\n",
            "\n",
            "\n",
            "[%] Done. Downloaded 30 images.\n",
            "\n",
            "===============================================\n",
            "\n",
            "time: 13.3 s (started: 2021-05-21 12:49:19 +00:00)\n"
          ],
          "name": "stdout"
        }
      ]
    },
    {
      "cell_type": "code",
      "metadata": {
        "colab": {
          "base_uri": "https://localhost:8080/"
        },
        "id": "lQ9_WOh_-RPX",
        "outputId": "dab96d74-05e7-452f-c388-a97cc0a77361"
      },
      "source": [
        "downloader.download(\"ice cream cone\",limit=30,output_dir='images',adult_filter_off=True)"
      ],
      "execution_count": null,
      "outputs": [
        {
          "output_type": "stream",
          "text": [
            "\n",
            "\n",
            "[!!]Indexing page: 1\n",
            "\n",
            "[%] Indexed 9 Images on Page 1.\n",
            "\n",
            "===============================================\n",
            "\n",
            "[%] Downloading Image #1 from http://phandroid.s3.amazonaws.com/wp-content/uploads/2010/10/ice-cream1.jpg\n",
            "[%] File Downloaded !\n",
            "\n",
            "[%] Downloading Image #2 from http://etc.usf.edu/clipart/5300/5358/cone_1_md.gif\n",
            "[%] File Downloaded !\n",
            "\n",
            "[%] Downloading Image #3 from https://i.pinimg.com/736x/fa/32/07/fa32073dddd4927646ded7dd2a8368fe.jpg\n",
            "[%] File Downloaded !\n",
            "\n",
            "[%] Downloading Image #4 from https://www.doyouremember.co.uk/uploads/W2YrgIV811138666_467075566790990_8064308684721678494_n.jpg\n",
            "[Error]Invalid image, not saving https://www.doyouremember.co.uk/uploads/W2YrgIV811138666_467075566790990_8064308684721678494_n.jpg\n",
            "\n",
            "[!] Issue getting: https://www.doyouremember.co.uk/uploads/W2YrgIV811138666_467075566790990_8064308684721678494_n.jpg\n",
            "[!] Error:: No active exception to reraise\n",
            "[%] Downloading Image #4 from https://upload.wikimedia.org/wikipedia/commons/d/d0/CornettoFoto.jpg\n",
            "[%] File Downloaded !\n",
            "\n",
            "[%] Downloading Image #5 from https://littlebitsof.com/wp-content/uploads/2014/04/DSC_0182.jpg\n",
            "[%] File Downloaded !\n",
            "\n",
            "[%] Downloading Image #6 from https://www.peters.com.au/wp-content/uploads/2020/05/Drumstick_ClassicVanilla_HW.png\n",
            "[%] File Downloaded !\n",
            "\n",
            "[%] Downloading Image #7 from http://www.intimateweddings.com/wp-content/uploads/2011/04/french-fry-cones.jpg\n",
            "[%] File Downloaded !\n",
            "\n",
            "[%] Downloading Image #8 from http://tastyislandhawaii.com/images10/filipino_fiesta/balut_ice_cream2.jpg\n",
            "[%] File Downloaded !\n",
            "\n",
            "\n",
            "\n",
            "[!!]Indexing page: 2\n",
            "\n",
            "[%] Indexed 10 Images on Page 2.\n",
            "\n",
            "===============================================\n",
            "\n",
            "[%] Downloading Image #9 from https://www.seriouseats.com/images/2014/06/20140613-Chocolate-Dip-kingcone-vicky-wasik-14.jpg\n",
            "[!] Issue getting: https://www.seriouseats.com/images/2014/06/20140613-Chocolate-Dip-kingcone-vicky-wasik-14.jpg\n",
            "[!] Error:: HTTP Error 404: Not Found\n",
            "[%] Downloading Image #9 from https://www.tablefortwoblog.com/wp-content/uploads/2013/09/espress-chocolate-chip-ice-cream-tablefortwoblog-1.jpg\n",
            "[%] File Downloaded !\n",
            "\n",
            "[%] Downloading Image #10 from https://www.campfiremarshmallows.com/wp-content/uploads/2016/07/marshmallow-dipped-ice-cream-cones.jpg\n",
            "[%] File Downloaded !\n",
            "\n",
            "[%] Downloading Image #11 from http://farm6.staticflickr.com/5445/7227446516_2bfabf111c_z.jpg\n",
            "[%] File Downloaded !\n",
            "\n",
            "[%] Downloading Image #12 from https://c1.staticflickr.com/3/2890/12421500065_4aa790d7f0_b.jpg\n",
            "[%] File Downloaded !\n",
            "\n",
            "[%] Downloading Image #13 from https://thefancy-media-ec3.thefancy.com/original/20110902/260782783_854ed8477672.jpg\n",
            "[%] File Downloaded !\n",
            "\n",
            "[%] Downloading Image #14 from http://www.scarymommy.com/wp-content/uploads/2013/06/dropped_ice_cream_cone_closer.jpg\n",
            "[%] File Downloaded !\n",
            "\n",
            "[%] Downloading Image #15 from http://cdn.shopify.com/s/files/1/0759/4297/files/IMG_5086_1024x1024.JPG?416514353461933250\n",
            "[%] File Downloaded !\n",
            "\n",
            "[%] Downloading Image #16 from http://img.xcitefun.net/users/2015/01/382446,xcitefun-amazing-ice-cream-3.jpg\n",
            "[%] File Downloaded !\n",
            "\n",
            "[%] Downloading Image #17 from http://www.obnoxiousantiques.com/wp-content/uploads/2012/06/P1050188-600x800.jpg\n",
            "[%] File Downloaded !\n",
            "\n",
            "\n",
            "\n",
            "[!!]Indexing page: 3\n",
            "\n",
            "[%] Indexed 9 Images on Page 3.\n",
            "\n",
            "===============================================\n",
            "\n",
            "[%] Downloading Image #18 from http://www.regin.in/uploads/products/images/additional/Richy-IceCream-Cone.jpg\n",
            "[%] File Downloaded !\n",
            "\n",
            "[%] Downloading Image #19 from https://digitalsynopsis.com/wp-content/uploads/2017/08/habibs-ice-cream-sculpture-moai.jpg\n",
            "[Error]Invalid image, not saving https://digitalsynopsis.com/wp-content/uploads/2017/08/habibs-ice-cream-sculpture-moai.jpg\n",
            "\n",
            "[!] Issue getting: https://digitalsynopsis.com/wp-content/uploads/2017/08/habibs-ice-cream-sculpture-moai.jpg\n",
            "[!] Error:: No active exception to reraise\n",
            "[%] Downloading Image #19 from https://i.ytimg.com/vi/viudNRwCG-s/maxresdefault.jpg\n",
            "[%] File Downloaded !\n",
            "\n",
            "[%] Downloading Image #20 from https://img.shockblast.net/2012/03/ShockBlast-Mary-Ellen-Johnson-Ice_Cream.jpg\n",
            "[%] File Downloaded !\n",
            "\n",
            "[%] Downloading Image #21 from http://i.ytimg.com/vi/2H8p2Dxpu_s/maxresdefault.jpg\n",
            "[%] File Downloaded !\n",
            "\n",
            "[%] Downloading Image #22 from https://i1.wp.com/www.daledetalles.com/wp-content/uploads/2016/08/fiesta-de-helado13.jpg\n",
            "[%] File Downloaded !\n",
            "\n",
            "[%] Downloading Image #23 from https://live.staticflickr.com/8037/8021453008_69840dabf7_b.jpg\n",
            "[Error]Invalid image, not saving https://live.staticflickr.com/8037/8021453008_69840dabf7_b.jpg\n",
            "\n",
            "[!] Issue getting: https://live.staticflickr.com/8037/8021453008_69840dabf7_b.jpg\n",
            "[!] Error:: No active exception to reraise\n",
            "[%] Downloading Image #23 from https://c1.staticflickr.com/5/4004/4677680783_dc80c313f2_b.jpg\n",
            "[%] File Downloaded !\n",
            "\n",
            "[%] Downloading Image #24 from https://s01.tcuniverse.com/vkmedia_store/2014/04/OIsoqJFH2siRifwg/sizes/tcmag/Hot_Babes_Eating_Ice_Cream_008_tcmag_650.jpg\n",
            "[%] File Downloaded !\n",
            "\n",
            "\n",
            "\n",
            "[!!]Indexing page: 4\n",
            "\n",
            "[%] Indexed 8 Images on Page 4.\n",
            "\n",
            "===============================================\n",
            "\n",
            "[%] Downloading Image #25 from https://i.ytimg.com/vi/viudNRwCG-s/maxresdefault.jpg\n",
            "[%] File Downloaded !\n",
            "\n",
            "[%] Downloading Image #26 from https://i1.wp.com/www.daledetalles.com/wp-content/uploads/2016/08/fiesta-de-helado13.jpg\n",
            "[%] File Downloaded !\n",
            "\n",
            "[%] Downloading Image #27 from http://i.ytimg.com/vi/2H8p2Dxpu_s/maxresdefault.jpg\n",
            "[%] File Downloaded !\n",
            "\n",
            "[%] Downloading Image #28 from https://s01.tcuniverse.com/vkmedia_store/2014/04/OIsoqJFH2siRifwg/sizes/tcmag/Hot_Babes_Eating_Ice_Cream_008_tcmag_650.jpg\n",
            "[%] File Downloaded !\n",
            "\n",
            "[%] Downloading Image #29 from https://live.staticflickr.com/8037/8021453008_69840dabf7_b.jpg\n",
            "[Error]Invalid image, not saving https://live.staticflickr.com/8037/8021453008_69840dabf7_b.jpg\n",
            "\n",
            "[!] Issue getting: https://live.staticflickr.com/8037/8021453008_69840dabf7_b.jpg\n",
            "[!] Error:: No active exception to reraise\n",
            "[%] Downloading Image #29 from https://c1.staticflickr.com/5/4004/4677680783_dc80c313f2_b.jpg\n",
            "[%] File Downloaded !\n",
            "\n",
            "[%] Downloading Image #30 from https://digitalsynopsis.com/wp-content/uploads/2017/08/habibs-ice-cream-sculpture-moai.jpg\n",
            "[Error]Invalid image, not saving https://digitalsynopsis.com/wp-content/uploads/2017/08/habibs-ice-cream-sculpture-moai.jpg\n",
            "\n",
            "[!] Issue getting: https://digitalsynopsis.com/wp-content/uploads/2017/08/habibs-ice-cream-sculpture-moai.jpg\n",
            "[!] Error:: No active exception to reraise\n",
            "[%] Downloading Image #30 from https://img.shockblast.net/2012/03/ShockBlast-Mary-Ellen-Johnson-Ice_Cream.jpg\n",
            "[%] File Downloaded !\n",
            "\n",
            "time: 9.45 s (started: 2021-05-21 12:49:43 +00:00)\n"
          ],
          "name": "stdout"
        }
      ]
    },
    {
      "cell_type": "code",
      "metadata": {
        "colab": {
          "base_uri": "https://localhost:8080/"
        },
        "id": "N7tVqLB5-XKB",
        "outputId": "93a104ae-a634-4640-f7f1-83900da1fa8a"
      },
      "source": [
        " import os\n",
        " import matplotlib.pyplot as plt\n",
        " import numpy as np\n",
        " from skimage.io import imread\n",
        " from skimage.transform import resize \n",
        "\n",
        " target = []\n",
        "images = []\n",
        "flat_data = []\n",
        "\n",
        "DATADIR= '/content/images'\n",
        "CATEGORIES = ['pretty sunflower','rugby ball leather','ice cream cone']\n",
        "\n",
        "for category in CATEGORIES:\n",
        "   class_num = CATEGORIES.index(category)\n",
        "   path=os.path.join(DATADIR,category)\n",
        "   for img in os.listdir(path):\n",
        "     img_array = imread(os.path.join(path,img))  \n",
        "     img_resized=resize(img_array,(150,150,3))\n",
        "     flat_data.append(img_resized.flatten())\n",
        "     images.append(img_resized)\n",
        "     target.append(class_num)\n",
        "\n",
        "flat_data= np.array(flat_data)\n",
        "target= np.array(target)\n",
        "images= np.array(images)"
      ],
      "execution_count": null,
      "outputs": [
        {
          "output_type": "stream",
          "text": [
            "time: 23.6 s (started: 2021-05-21 13:17:10 +00:00)\n"
          ],
          "name": "stdout"
        }
      ]
    },
    {
      "cell_type": "code",
      "metadata": {
        "colab": {
          "base_uri": "https://localhost:8080/"
        },
        "id": "Uu41VW44-hHH",
        "outputId": "f3fa2ec2-75ab-4e49-cac7-73bbbf8de650"
      },
      "source": [
        "flat_data[0]"
      ],
      "execution_count": null,
      "outputs": [
        {
          "output_type": "execute_result",
          "data": {
            "text/plain": [
              "array([0.68593464, 0.50213987, 0.37254902, ..., 0.5227451 , 0.50704183,\n",
              "       0.47142484])"
            ]
          },
          "metadata": {
            "tags": []
          },
          "execution_count": 24
        },
        {
          "output_type": "stream",
          "text": [
            "time: 5.71 ms (started: 2021-05-21 12:53:08 +00:00)\n"
          ],
          "name": "stdout"
        }
      ]
    },
    {
      "cell_type": "code",
      "metadata": {
        "colab": {
          "base_uri": "https://localhost:8080/",
          "height": 300
        },
        "id": "xVlo5ZYRFHAd",
        "outputId": "a79dbb68-10e8-4e86-dcc8-dcda243e344f"
      },
      "source": [
        "unique,count = np.unique(target,return_counts=True)\n",
        "plt.bar(CATEGORIES,count)"
      ],
      "execution_count": null,
      "outputs": [
        {
          "output_type": "execute_result",
          "data": {
            "text/plain": [
              "<BarContainer object of 3 artists>"
            ]
          },
          "metadata": {
            "tags": []
          },
          "execution_count": 36
        },
        {
          "output_type": "display_data",
          "data": {
            "image/png": "[encoded data removed]",
            "text/plain": [
              "<Figure size 432x288 with 1 Axes>"
            ]
          },
          "metadata": {
            "tags": [],
            "needs_background": "light"
          }
        },
        {
          "output_type": "stream",
          "text": [
            "time: 137 ms (started: 2021-05-21 13:20:26 +00:00)\n"
          ],
          "name": "stdout"
        }
      ]
    },
    {
      "cell_type": "code",
      "metadata": {
        "colab": {
          "base_uri": "https://localhost:8080/"
        },
        "id": "GkxgVWQd_JNe",
        "outputId": "eae10b4e-56ee-4559-cedb-def8dbaabac8"
      },
      "source": [
        "from sklearn.model_selection import train_test_split\n",
        "x_train,x_test,y_train,y_test = train_test_split(flat_data,target,\n",
        "                                                 test_size=0.3,random_state=109)\n",
        "\n"
      ],
      "execution_count": null,
      "outputs": [
        {
          "output_type": "stream",
          "text": [
            "time: 20.2 ms (started: 2021-05-21 13:21:55 +00:00)\n"
          ],
          "name": "stdout"
        }
      ]
    },
    {
      "cell_type": "code",
      "metadata": {
        "colab": {
          "base_uri": "https://localhost:8080/"
        },
        "id": "zdIx2UQD_NJr",
        "outputId": "c4da32dd-26d6-4cf0-c4b2-b813d049acf8"
      },
      "source": [
        "from sklearn.model_selection import GridSearchCV\n",
        "from sklearn import svm\n",
        "param_grid= [\n",
        "               {'C':[1,10,100,1000],'kernel':['linear']},\n",
        "               {'C':[1,10,100,1000],'gamma':[0.001,0.0001],'kernel':['rbf']},\n",
        "]\n",
        "svc = svm.SVC(probability=True)\n",
        "clf = GridSearchCV(svc,param_grid)\n",
        "clf.fit(x_train,y_train) \n"
      ],
      "execution_count": null,
      "outputs": [
        {
          "output_type": "execute_result",
          "data": {
            "text/plain": [
              "GridSearchCV(cv=None, error_score=nan,\n",
              "             estimator=SVC(C=1.0, break_ties=False, cache_size=200,\n",
              "                           class_weight=None, coef0=0.0,\n",
              "                           decision_function_shape='ovr', degree=3,\n",
              "                           gamma='scale', kernel='rbf', max_iter=-1,\n",
              "                           probability=True, random_state=None, shrinking=True,\n",
              "                           tol=0.001, verbose=False),\n",
              "             iid='deprecated', n_jobs=None,\n",
              "             param_grid=[{'C': [1, 10, 100, 1000], 'kernel': ['linear']},\n",
              "                         {'C': [1, 10, 100, 1000], 'gamma': [0.001, 0.0001],\n",
              "                          'kernel': ['rbf']}],\n",
              "             pre_dispatch='2*n_jobs', refit=True, return_train_score=False,\n",
              "             scoring=None, verbose=0)"
            ]
          },
          "metadata": {
            "tags": []
          },
          "execution_count": 38
        },
        {
          "output_type": "stream",
          "text": [
            "time: 1min 42s (started: 2021-05-21 13:25:27 +00:00)\n"
          ],
          "name": "stdout"
        }
      ]
    },
    {
      "cell_type": "code",
      "metadata": {
        "colab": {
          "base_uri": "https://localhost:8080/"
        },
        "id": "6ChZ78Se_P0n",
        "outputId": "fda8aeaa-28af-4fb4-cb09-f791eeca25d7"
      },
      "source": [
        "y_pred = clf.predict(x_test)\n",
        "y_pred"
      ],
      "execution_count": null,
      "outputs": [
        {
          "output_type": "execute_result",
          "data": {
            "text/plain": [
              "array([1, 0, 1, 2, 2, 1, 0, 1, 1, 0, 1, 0, 1, 2, 2, 1, 2, 1, 0, 1, 2, 2,\n",
              "       2, 0, 0, 0, 1])"
            ]
          },
          "metadata": {
            "tags": []
          },
          "execution_count": 39
        },
        {
          "output_type": "stream",
          "text": [
            "time: 142 ms (started: 2021-05-21 13:28:31 +00:00)\n"
          ],
          "name": "stdout"
        }
      ]
    },
    {
      "cell_type": "code",
      "metadata": {
        "colab": {
          "base_uri": "https://localhost:8080/"
        },
        "id": "VgeSI1ev_pk5",
        "outputId": "1edd57fd-4e7a-420b-e8bb-88d4d0abb22b"
      },
      "source": [
        "y_test"
      ],
      "execution_count": null,
      "outputs": [
        {
          "output_type": "execute_result",
          "data": {
            "text/plain": [
              "array([1, 0, 1, 2, 2, 1, 0, 1, 1, 0, 1, 0, 1, 2, 2, 1, 2, 1, 0, 1, 2, 2,\n",
              "       2, 0, 0, 0, 1])"
            ]
          },
          "metadata": {
            "tags": []
          },
          "execution_count": 40
        },
        {
          "output_type": "stream",
          "text": [
            "time: 5.92 ms (started: 2021-05-21 13:28:41 +00:00)\n"
          ],
          "name": "stdout"
        }
      ]
    },
    {
      "cell_type": "code",
      "metadata": {
        "colab": {
          "base_uri": "https://localhost:8080/"
        },
        "id": "Fc1cjvu3_7uz",
        "outputId": "e7fa2a56-7c0d-4b90-e031-d16366b5759b"
      },
      "source": [
        "from sklearn.metrics import accuracy_score,confusion_matrix\n"
      ],
      "execution_count": null,
      "outputs": [
        {
          "output_type": "stream",
          "text": [
            "time: 1.58 ms (started: 2021-05-21 12:56:51 +00:00)\n"
          ],
          "name": "stdout"
        }
      ]
    },
    {
      "cell_type": "code",
      "metadata": {
        "colab": {
          "base_uri": "https://localhost:8080/"
        },
        "id": "NxbaZ-MC__0j",
        "outputId": "97150ac9-cb47-4b7f-f25f-2dc6887ed56f"
      },
      "source": [
        "accuracy_score(y_pred,y_test)"
      ],
      "execution_count": null,
      "outputs": [
        {
          "output_type": "execute_result",
          "data": {
            "text/plain": [
              "1.0"
            ]
          },
          "metadata": {
            "tags": []
          },
          "execution_count": 41
        },
        {
          "output_type": "stream",
          "text": [
            "time: 5.74 ms (started: 2021-05-21 13:29:30 +00:00)\n"
          ],
          "name": "stdout"
        }
      ]
    },
    {
      "cell_type": "code",
      "metadata": {
        "colab": {
          "base_uri": "https://localhost:8080/"
        },
        "id": "4HbDV3v9ABhx",
        "outputId": "13faf44d-9e57-400e-bf78-332e5c6e98a3"
      },
      "source": [
        "confusion_matrix(y_pred,y_test)"
      ],
      "execution_count": null,
      "outputs": [
        {
          "output_type": "execute_result",
          "data": {
            "text/plain": [
              "array([[ 8,  0,  0],\n",
              "       [ 0, 11,  0],\n",
              "       [ 0,  0,  8]])"
            ]
          },
          "metadata": {
            "tags": []
          },
          "execution_count": 42
        },
        {
          "output_type": "stream",
          "text": [
            "time: 5.15 ms (started: 2021-05-21 13:29:36 +00:00)\n"
          ],
          "name": "stdout"
        }
      ]
    },
    {
      "cell_type": "code",
      "metadata": {
        "colab": {
          "base_uri": "https://localhost:8080/"
        },
        "id": "UanVCevBAF9p",
        "outputId": "5f33c010-7ec8-403d-ee01-0d7d8948e16c"
      },
      "source": [
        " import pickle\n",
        " pickle.dump(clf,open('img_model.p','wb'))"
      ],
      "execution_count": null,
      "outputs": [
        {
          "output_type": "stream",
          "text": [
            "time: 46 ms (started: 2021-05-21 13:30:40 +00:00)\n"
          ],
          "name": "stdout"
        }
      ]
    },
    {
      "cell_type": "code",
      "metadata": {
        "colab": {
          "base_uri": "https://localhost:8080/"
        },
        "id": "wiAKKkKhAHyO",
        "outputId": "a6045af9-abbd-4609-c196-1c72b5c007ed"
      },
      "source": [
        "model=pickle.load(open('img_model.p','rb'))\n"
      ],
      "execution_count": null,
      "outputs": [
        {
          "output_type": "stream",
          "text": [
            "time: 23.7 ms (started: 2021-05-21 13:31:28 +00:00)\n"
          ],
          "name": "stdout"
        }
      ]
    },
    {
      "cell_type": "code",
      "metadata": {
        "colab": {
          "base_uri": "https://localhost:8080/",
          "height": 359
        },
        "id": "GoWUN8YSAKD0",
        "outputId": "b084ba0c-71e6-4b98-cafc-677b1aad1f1b"
      },
      "source": [
        "flat_data =[]\n",
        "url= input('Enter the URL')\n",
        "img = imread(url)\n",
        "img_resized= resize(img,(150,150,3))\n",
        "flat_data.append(img_resized.flatten())\n",
        "flat_data = np.array(flat_data)\n",
        "print(img.shape)\n",
        "plt.imshow(img_resized)\n",
        "y_out = model.predict(flat_data)\n",
        "y_out = CATEGORIES[y_out[0]]\n",
        "print(f'PREDICTED OUTPUT: {y_out}')"
      ],
      "execution_count": null,
      "outputs": [
        {
          "output_type": "stream",
          "text": [
            "Enter the URLhttps://th.bing.com/th/id/OIP.NUQHMLILyKzXwDjghVnhGQHaE7?w=299&h=199&c=7&o=5&dpr=1.5&pid=1.7\n",
            "(298, 448, 3)\n",
            "PREDICTED OUTPUT: pretty sunflower\n"
          ],
          "name": "stdout"
        },
        {
          "output_type": "display_data",
          "data": {
            "image/png": "[encoded data removed]",
            "text/plain": [
              "<Figure size 432x288 with 1 Axes>"
            ]
          },
          "metadata": {
            "tags": [],
            "needs_background": "light"
          }
        },
        {
          "output_type": "stream",
          "text": [
            "time: 5.53 s (started: 2021-05-21 13:44:48 +00:00)\n"
          ],
          "name": "stdout"
        }
      ]
    },
    {
      "cell_type": "code",
      "metadata": {
        "id": "vspB8SMQAMWv"
      },
      "source": [
        ""
      ],
      "execution_count": null,
      "outputs": []
    },
    {
      "cell_type": "code",
      "metadata": {
        "id": "-WdfYatZLrE6"
      },
      "source": [
        ""
      ],
      "execution_count": null,
      "outputs": []
    }
  ]
}