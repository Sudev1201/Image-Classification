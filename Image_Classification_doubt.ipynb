{
  "nbformat": 4,
  "nbformat_minor": 0,
  "metadata": {
    "colab": {
      "name": "Image Classification doubt.ipynb",
      "provenance": []
    },
    "kernelspec": {
      "display_name": "Python 3",
      "name": "python3"
    },
    "language_info": {
      "name": "python"
    }
  },
  "cells": [
    {
      "cell_type": "code",
      "metadata": {
        "colab": {
          "base_uri": "https://localhost:8080/"
        },
        "id": "arDj9yScaRaj",
        "outputId": "764e1496-5ac3-4daa-c3a2-b3de14212fad"
      },
      "source": [
        "!pip install ipython-autotime\n",
        "%load_ext autotime"
      ],
      "execution_count": 45,
      "outputs": [
        {
          "output_type": "stream",
          "text": [
            "Requirement already satisfied: ipython-autotime in /usr/local/lib/python3.7/dist-packages (0.3.1)\n",
            "Requirement already satisfied: ipython in /usr/local/lib/python3.7/dist-packages (from ipython-autotime) (5.5.0)\n",
            "Requirement already satisfied: pickleshare in /usr/local/lib/python3.7/dist-packages (from ipython->ipython-autotime) (0.7.5)\n",
            "Requirement already satisfied: prompt-toolkit<2.0.0,>=1.0.4 in /usr/local/lib/python3.7/dist-packages (from ipython->ipython-autotime) (1.0.18)\n",
            "Requirement already satisfied: decorator in /usr/local/lib/python3.7/dist-packages (from ipython->ipython-autotime) (4.4.2)\n",
            "Requirement already satisfied: simplegeneric>0.8 in /usr/local/lib/python3.7/dist-packages (from ipython->ipython-autotime) (0.8.1)\n",
            "Requirement already satisfied: traitlets>=4.2 in /usr/local/lib/python3.7/dist-packages (from ipython->ipython-autotime) (5.0.5)\n",
            "Requirement already satisfied: setuptools>=18.5 in /usr/local/lib/python3.7/dist-packages (from ipython->ipython-autotime) (56.1.0)\n",
            "Requirement already satisfied: pexpect; sys_platform != \"win32\" in /usr/local/lib/python3.7/dist-packages (from ipython->ipython-autotime) (4.8.0)\n",
            "Requirement already satisfied: pygments in /usr/local/lib/python3.7/dist-packages (from ipython->ipython-autotime) (2.6.1)\n",
            "Requirement already satisfied: six>=1.9.0 in /usr/local/lib/python3.7/dist-packages (from prompt-toolkit<2.0.0,>=1.0.4->ipython->ipython-autotime) (1.15.0)\n",
            "Requirement already satisfied: wcwidth in /usr/local/lib/python3.7/dist-packages (from prompt-toolkit<2.0.0,>=1.0.4->ipython->ipython-autotime) (0.2.5)\n",
            "Requirement already satisfied: ipython-genutils in /usr/local/lib/python3.7/dist-packages (from traitlets>=4.2->ipython->ipython-autotime) (0.2.0)\n",
            "Requirement already satisfied: ptyprocess>=0.5 in /usr/local/lib/python3.7/dist-packages (from pexpect; sys_platform != \"win32\"->ipython->ipython-autotime) (0.7.0)\n",
            "The autotime extension is already loaded. To reload it, use:\n",
            "  %reload_ext autotime\n",
            "time: 3.15 s (started: 2021-05-24 07:27:30 +00:00)\n"
          ],
          "name": "stdout"
        }
      ]
    },
    {
      "cell_type": "code",
      "metadata": {
        "colab": {
          "base_uri": "https://localhost:8080/"
        },
        "id": "qIOB2wm_b71Q",
        "outputId": "6e167256-3b2a-450f-8572-cafc3eb41269"
      },
      "source": [
        "!pip install bing-image-downloader"
      ],
      "execution_count": 46,
      "outputs": [
        {
          "output_type": "stream",
          "text": [
            "Requirement already satisfied: bing-image-downloader in /usr/local/lib/python3.7/dist-packages (1.0.4)\n",
            "time: 3.05 s (started: 2021-05-24 07:27:33 +00:00)\n"
          ],
          "name": "stdout"
        }
      ]
    },
    {
      "cell_type": "code",
      "metadata": {
        "colab": {
          "base_uri": "https://localhost:8080/"
        },
        "id": "aDUGWhgYeAiX",
        "outputId": "f22bd65b-9367-4af2-c242-d105551d50fd"
      },
      "source": [
        "!mkdir images\n"
      ],
      "execution_count": 47,
      "outputs": [
        {
          "output_type": "stream",
          "text": [
            "mkdir: cannot create directory ‘images’: File exists\n",
            "time: 129 ms (started: 2021-05-24 07:27:36 +00:00)\n"
          ],
          "name": "stdout"
        }
      ]
    },
    {
      "cell_type": "code",
      "metadata": {
        "colab": {
          "base_uri": "https://localhost:8080/"
        },
        "id": "2bqwXomKeN0C",
        "outputId": "8a083738-e565-471f-ac52-5fd428acee28"
      },
      "source": [
        "from bing_image_downloader import downloader\n",
        "downloader.download(\"dog\",limit=30,output_dir='images',adult_filter_off=True)"
      ],
      "execution_count": 48,
      "outputs": [
        {
          "output_type": "stream",
          "text": [
            "\n",
            "\n",
            "[!!]Indexing page: 1\n",
            "\n",
            "[%] Indexed 10 Images on Page 1.\n",
            "\n",
            "===============================================\n",
            "\n",
            "[%] Downloading Image #1 from http://vuing.com/wp-content/uploads/2016/03/funny-expressive-dog-portraits-photos-6.jpg\n",
            "[%] File Downloaded !\n",
            "\n",
            "[%] Downloading Image #2 from https://www.barnorama.com/wp-content/uploads/2019/03/service_dog_memes_21.jpg\n",
            "[%] File Downloaded !\n",
            "\n",
            "[%] Downloading Image #3 from https://www.newslinq.com/wp-content/uploads/2016/08/cutest-puppies-in-the-world-10.jpg\n",
            "[%] File Downloaded !\n",
            "\n",
            "[%] Downloading Image #4 from http://www.newslinq.com/wp-content/uploads/2014/11/23934.jpg\n",
            "[%] File Downloaded !\n",
            "\n",
            "[%] Downloading Image #5 from https://breakbrunch.com/wp-content/uploads/2019/10/cute-girl-in-short-shorts-102419-10.jpg\n",
            "[%] File Downloaded !\n",
            "\n",
            "[%] Downloading Image #6 from http://www.okchicas.com/wp-content/uploads/2015/02/Los-perros-más-pequeños-del-mundo-21.jpg\n",
            "[!] Issue getting: http://www.okchicas.com/wp-content/uploads/2015/02/Los-perros-más-pequeños-del-mundo-21.jpg\n",
            "[!] Error:: 'ascii' codec can't encode character '\\xe1' in position 44: ordinal not in range(128)\n",
            "[%] Downloading Image #6 from https://www.recreoviral.com/wp-content/uploads/2015/01/growing-up-sucks-cute-dogs-010-funny-bits-562x750.jpg\n",
            "[%] File Downloaded !\n",
            "\n",
            "[%] Downloading Image #7 from https://ww1.prweb.com/prfiles/2005/08/05/270032/ISSBD.jpg\n",
            "[!] Issue getting: https://ww1.prweb.com/prfiles/2005/08/05/270032/ISSBD.jpg\n",
            "[!] Error:: HTTP Error 503: Service Unavailable\n",
            "[%] Downloading Image #7 from http://allisonragsdalephotography.com/wp-content/uploads/2013/08/allisonragsdalephotography-3593-681x1024.jpg\n",
            "[%] File Downloaded !\n",
            "\n",
            "[%] Downloading Image #8 from http://www.barnorama.com/wp-content/uploads/2011/02/1744.jpg\n",
            "[%] File Downloaded !\n",
            "\n",
            "\n",
            "\n",
            "[!!]Indexing page: 2\n",
            "\n",
            "[%] Indexed 10 Images on Page 2.\n",
            "\n",
            "===============================================\n",
            "\n",
            "[%] Downloading Image #9 from http://allisonragsdalephotography.com/wp-content/uploads/2013/08/allisonragsdalephotography-3503.jpg\n",
            "[%] File Downloaded !\n",
            "\n",
            "[%] Downloading Image #10 from https://www.animals-zone.com/wp-content/uploads/2014/04/dog-expressions.jpg\n",
            "[%] File Downloaded !\n",
            "\n",
            "[%] Downloading Image #11 from https://ratses.gr/sites/default/files/beagle-puppy-wants-to-go-for-a-walk[1]_0.jpg\n",
            "[%] File Downloaded !\n",
            "\n",
            "[%] Downloading Image #12 from http://www.trendzified.net/wp-content/uploads/2014/07/83709246.jpg\n",
            "[%] File Downloaded !\n",
            "\n",
            "[%] Downloading Image #13 from https://cdn.wonderfuldiy.com/wp-content/uploads/2018/03/Flannel-dog-bandana-.jpeg\n",
            "[%] File Downloaded !\n",
            "\n",
            "[%] Downloading Image #14 from http://celebdonut.com/wp-content/uploads/2020/06/billie-eilish-in-a-green-bandana-as-a-face-mask-walks-her-dog-in-los-angeles-5.jpg\n",
            "[%] File Downloaded !\n",
            "\n",
            "[%] Downloading Image #15 from http://www.animals-zone.com/wp-content/uploads/2014/04/laughing-dog.jpg\n",
            "[%] File Downloaded !\n",
            "\n",
            "[%] Downloading Image #16 from http://picturescrafts.com/wp-content/uploads/2015/10/Funny-Dog-3.jpg\n",
            "[%] File Downloaded !\n",
            "\n",
            "[%] Downloading Image #17 from http://www.top13.net/wp-content/uploads/2015/12/huge-maine-coon-cats-11.jpg\n",
            "[%] File Downloaded !\n",
            "\n",
            "[%] Downloading Image #18 from http://spongekids.com/wp-content/uploads/2014/04/pipe-cleaner-animals/28-pipe-cleaner-antelope.jpg\n",
            "[%] File Downloaded !\n",
            "\n",
            "\n",
            "\n",
            "[!!]Indexing page: 3\n",
            "\n",
            "[%] Indexed 9 Images on Page 3.\n",
            "\n",
            "===============================================\n",
            "\n",
            "[%] Downloading Image #19 from http://www.barnorama.com/wp-content/galleries/01/chewbacca/13.jpg\n",
            "[%] File Downloaded !\n",
            "\n",
            "[%] Downloading Image #20 from https://2.bp.blogspot.com/-9QaOdl2TjiQ/ULXmDxMf6tI/AAAAAAAAEAU/PlPzEYknG4M/s1600/white_dog_blue_eyes.jpg\n",
            "[%] File Downloaded !\n",
            "\n",
            "[%] Downloading Image #21 from http://www.tattooeasily.com/wp-content/uploads/2014/08/praying-hands-god-tattoo-508x1024.jpg\n",
            "[%] File Downloaded !\n",
            "\n",
            "[%] Downloading Image #22 from https://hative.com/wp-content/uploads/2014/10/cool-pet-costumes/9-cool-pet-costumes.jpg\n",
            "[%] File Downloaded !\n",
            "\n",
            "[%] Downloading Image #23 from https://4kwallpapers.com/images/wallpapers/sunflowers-flower-vase-wooden-background-teal-640x1136-921.jpg\n",
            "[%] File Downloaded !\n",
            "\n",
            "[%] Downloading Image #24 from https://www.frogx3.com/wp-content/uploads/2013/02/publicidad-graciosa-con-perros-15.jpg\n",
            "[%] File Downloaded !\n",
            "\n",
            "[%] Downloading Image #25 from http://www.funcage.com/blog/wp-content/uploads/2013/04/Terrifyingly-Tall-Women-028-550x733.jpg\n",
            "[%] File Downloaded !\n",
            "\n",
            "[%] Downloading Image #26 from https://posterspy.com/wp-content/uploads/2018/08/bram-drac-fin-bow.jpg\n",
            "[%] File Downloaded !\n",
            "\n",
            "[%] Downloading Image #27 from http://www.majorgeeks.com/news/file/5565_whats%20up%20dog%20-%204.jpg\n",
            "[%] File Downloaded !\n",
            "\n",
            "\n",
            "\n",
            "[!!]Indexing page: 4\n",
            "\n",
            "[%] Indexed 8 Images on Page 4.\n",
            "\n",
            "===============================================\n",
            "\n",
            "[%] Downloading Image #28 from http://www.trendzified.net/wp-content/uploads/2014/07/83709246.jpg\n",
            "[%] File Downloaded !\n",
            "\n",
            "[%] Downloading Image #29 from http://www.animals-zone.com/wp-content/uploads/2014/04/laughing-dog.jpg\n",
            "[%] File Downloaded !\n",
            "\n",
            "[%] Downloading Image #30 from http://celebdonut.com/wp-content/uploads/2020/06/billie-eilish-in-a-green-bandana-as-a-face-mask-walks-her-dog-in-los-angeles-5.jpg\n",
            "[%] File Downloaded !\n",
            "\n",
            "\n",
            "\n",
            "[%] Done. Downloaded 30 images.\n",
            "\n",
            "===============================================\n",
            "\n",
            "time: 10.3 s (started: 2021-05-24 07:27:36 +00:00)\n"
          ],
          "name": "stdout"
        }
      ]
    },
    {
      "cell_type": "code",
      "metadata": {
        "colab": {
          "base_uri": "https://localhost:8080/"
        },
        "id": "0YsvtP5rfq4c",
        "outputId": "03a7c238-9a62-4463-a5c5-bd5659b26ccc"
      },
      "source": [
        "downloader.download(\"cute cat\",limit=30,output_dir='images',adult_filter_off=True)\n"
      ],
      "execution_count": 49,
      "outputs": [
        {
          "output_type": "stream",
          "text": [
            "\n",
            "\n",
            "[!!]Indexing page: 1\n",
            "\n",
            "[%] Indexed 11 Images on Page 1.\n",
            "\n",
            "===============================================\n",
            "\n",
            "[%] Downloading Image #1 from https://www.htcn.fr/blog/wp-content/uploads/2017/03/very-cute-kitty-wallpaper-background-576x1024.jpeg\n",
            "[Error]Invalid image, not saving https://www.htcn.fr/blog/wp-content/uploads/2017/03/very-cute-kitty-wallpaper-background-576x1024.jpeg\n",
            "\n",
            "[!] Issue getting: https://www.htcn.fr/blog/wp-content/uploads/2017/03/very-cute-kitty-wallpaper-background-576x1024.jpeg\n",
            "[!] Error:: No active exception to reraise\n",
            "[%] Downloading Image #1 from http://sonailicious.com/wp-content/uploads/2013/10/halloween-nail-art-2.jpg\n",
            "[%] File Downloaded !\n",
            "\n",
            "[%] Downloading Image #2 from https://designbump.com/wp-content/uploads/2014/09/funny-jumping-cats-94__880.jpg\n",
            "[%] File Downloaded !\n",
            "\n",
            "[%] Downloading Image #3 from https://breakbrunch.com/wp-content/uploads/2020/04/bikini-girl-5e9905f6061e400b6.jpg\n",
            "[%] File Downloaded !\n",
            "\n",
            "[%] Downloading Image #4 from http://cdn.goodshomedesign.com/wp-content/uploads/2013/12/book-christmas-tree-8.jpg\n",
            "[%] File Downloaded !\n",
            "\n",
            "[%] Downloading Image #5 from https://ilikecatsverymuch.com/wp-content/uploads/2020/09/Cat-wallpaper-phone-september-2020-thumbnail-4-scaled.jpg\n",
            "[%] File Downloaded !\n",
            "\n",
            "[%] Downloading Image #6 from https://www.barnorama.com/wp-content/uploads/2016/11/04-underwater_lake.jpg\n",
            "[%] File Downloaded !\n",
            "\n",
            "[%] Downloading Image #7 from https://wanna-joke.com/wp-content/uploads/2014/10/funny-gif-cat-staring.gif\n",
            "[%] File Downloaded !\n",
            "\n",
            "[%] Downloading Image #8 from https://www.bing.com/th/id/OGC.f7a42d6f95bb51f9cdca57c2b8bf64a1?pid=1.7&amp;rurl=https%3a%2f%2fwanna-joke.com%2fwp-content%2fuploads%2f2014%2f10%2ffunny-gif-cat-staring.gif&amp;ehk=qlF4eSJeKFFSvvlAv48lL24vRL5QY%2bZZfL4ZpM4Wb58%3d\n",
            "[!] Issue getting: https://www.bing.com/th/id/OGC.f7a42d6f95bb51f9cdca57c2b8bf64a1?pid=1.7&amp;rurl=https%3a%2f%2fwanna-joke.com%2fwp-content%2fuploads%2f2014%2f10%2ffunny-gif-cat-staring.gif&amp;ehk=qlF4eSJeKFFSvvlAv48lL24vRL5QY%2bZZfL4ZpM4Wb58%3d\n",
            "[!] Error:: HTTP Error 404: Not Found\n",
            "[%] Downloading Image #8 from https://breakbrunch.com/wp-content/uploads/2019/10/cute-girl-in-short-shorts-102419-10.jpg\n",
            "[%] File Downloaded !\n",
            "\n",
            "[%] Downloading Image #9 from https://breakbrunch.com/wp-content/uploads/2020/04/league-of-legends-ahri-cosplay-lada-lyumos-5e95338524fa73e19.jpg\n",
            "[%] File Downloaded !\n",
            "\n",
            "\n",
            "\n",
            "[!!]Indexing page: 2\n",
            "\n",
            "[%] Indexed 10 Images on Page 2.\n",
            "\n",
            "===============================================\n",
            "\n",
            "[%] Downloading Image #10 from https://wallpapershome.com/images/wallpapers/kitten-1440x2560-cute-animals-5k-16583.jpeg\n",
            "[%] File Downloaded !\n",
            "\n",
            "[%] Downloading Image #11 from http://ruinmyweek.com/wp-content/uploads/2016/08/the-best-funny-pictures-of-not-my-cat-lap.jpg\n",
            "[%] File Downloaded !\n",
            "\n",
            "[%] Downloading Image #12 from http://www.pickchur.com/wp-content/uploads/2010/05/cat-reflection.jpg\n",
            "[%] File Downloaded !\n",
            "\n",
            "[%] Downloading Image #13 from https://www.hdwallpapers.in/download/bald_eagle_hd_wide-1680x1050.jpg\n",
            "[%] File Downloaded !\n",
            "\n",
            "[%] Downloading Image #14 from http://www.trendzified.net/wp-content/uploads/2014/10/z9bms-cats1.jpg\n",
            "[%] File Downloaded !\n",
            "\n",
            "[%] Downloading Image #15 from https://www.hdwallpapers.in/download/green_snake-1680x1050.jpg\n",
            "[%] File Downloaded !\n",
            "\n",
            "[%] Downloading Image #16 from https://wallpapershome.com/images/wallpapers/grass-1920x1080-hd-4k-wallpaper-macro-drops-green-5483.jpg\n",
            "[%] File Downloaded !\n",
            "\n",
            "[%] Downloading Image #17 from https://tailandfur.com/wp-content/uploads/2014/03/cats-being-naughty-20.jpg\n",
            "[%] File Downloaded !\n",
            "\n",
            "[%] Downloading Image #18 from https://www.digsdigs.com/photos/creative-and-cozy-cat-beds-15-554x738.jpg\n",
            "[%] File Downloaded !\n",
            "\n",
            "[%] Downloading Image #19 from http://www.luvbat.com/uploads/raccoon_praying__2733912435.jpg\n",
            "[%] File Downloaded !\n",
            "\n",
            "\n",
            "\n",
            "[!!]Indexing page: 3\n",
            "\n",
            "[%] Indexed 9 Images on Page 3.\n",
            "\n",
            "===============================================\n",
            "\n",
            "[%] Downloading Image #20 from http://www.luvbat.com/uploads/cutest_spider_monkey_with_cute_expression__7263928959.jpg\n",
            "[%] File Downloaded !\n",
            "\n",
            "[%] Downloading Image #21 from https://spongekids.com/wp-content/uploads/2014/04/perler-beads-patterns/36-christmas-reindeer.jpg\n",
            "[%] File Downloaded !\n",
            "\n",
            "[%] Downloading Image #22 from https://www.top13.net/wp-content/uploads/2015/01/sitting-cat13.jpg\n",
            "[%] File Downloaded !\n",
            "\n",
            "[%] Downloading Image #23 from http://wanna-joke.com/wp-content/uploads/2014/04/funny-picture-girl-car-dog-scared.jpg\n",
            "[%] File Downloaded !\n",
            "\n",
            "[%] Downloading Image #24 from http://www.trendzified.net/wp-content/uploads/2014/10/2wn64-cats12.jpg\n",
            "[%] File Downloaded !\n",
            "\n",
            "[%] Downloading Image #25 from http://img.izismile.com/img/img6/20130311/640/these_funny_animals_1159_640_40.jpg\n",
            "[%] File Downloaded !\n",
            "\n",
            "[%] Downloading Image #26 from https://hative.com/wp-content/uploads/2014/10/halloween-eye-makeup/13-halloween-eye-makeup-ideas.jpg\n",
            "[%] File Downloaded !\n",
            "\n",
            "[%] Downloading Image #27 from https://hative.com/wp-content/uploads/2014/10/cool-pet-costumes/8-cool-pet-costumes.jpg\n",
            "[%] File Downloaded !\n",
            "\n",
            "[%] Downloading Image #28 from https://breakbrunch.com/wp-content/uploads/2019/03/funny-cat-meme-0117190504-7.jpg\n",
            "[%] File Downloaded !\n",
            "\n",
            "\n",
            "\n",
            "[!!]Indexing page: 4\n",
            "\n",
            "[%] Indexed 9 Images on Page 4.\n",
            "\n",
            "===============================================\n",
            "\n",
            "[%] Downloading Image #29 from https://ilikecatsverymuch.com/wp-content/uploads/2020/09/Cat-wallpaper-phone-september-2020-thumbnail-4-scaled.jpg\n",
            "[%] File Downloaded !\n",
            "\n",
            "[%] Downloading Image #30 from https://wanna-joke.com/wp-content/uploads/2014/10/funny-gif-cat-staring.gif\n",
            "[%] File Downloaded !\n",
            "\n",
            "\n",
            "\n",
            "[%] Done. Downloaded 30 images.\n",
            "\n",
            "===============================================\n",
            "\n",
            "time: 14.2 s (started: 2021-05-24 07:27:46 +00:00)\n"
          ],
          "name": "stdout"
        }
      ]
    },
    {
      "cell_type": "code",
      "metadata": {
        "colab": {
          "base_uri": "https://localhost:8080/"
        },
        "id": "IZHZdthMZnSS",
        "outputId": "3cf11010-68e9-4e28-d949-066c490435f5"
      },
      "source": [
        "downloader.download(\"cow\",limit=30,output_dir='images',adult_filter_off=True)\n"
      ],
      "execution_count": 50,
      "outputs": [
        {
          "output_type": "stream",
          "text": [
            "\n",
            "\n",
            "[!!]Indexing page: 1\n",
            "\n",
            "[%] Indexed 10 Images on Page 1.\n",
            "\n",
            "===============================================\n",
            "\n",
            "[%] Downloading Image #1 from https://www.cornwalls.co.uk/sites/default/files/photos/laughing_cow.jpg\n",
            "[%] File Downloaded !\n",
            "\n",
            "[%] Downloading Image #2 from http://www.lolwot.com/wp-content/uploads/2015/06/20-hilarious-pictures-of-pets-in-costumes-13.jpg\n",
            "[%] File Downloaded !\n",
            "\n",
            "[%] Downloading Image #3 from https://www.anime-planet.com/images/anime/covers/jack-and-the-beanstalk-2456.jpg\n",
            "[%] File Downloaded !\n",
            "\n",
            "[%] Downloading Image #4 from https://lingeriefc.com/wp-content/uploads/2020/10/Kelli-Provocateur-2.jpg\n",
            "[%] File Downloaded !\n",
            "\n",
            "[%] Downloading Image #5 from http://walkthewilderness.net/wp-content/uploads/2012/05/G+7385.jpg\n",
            "[%] File Downloaded !\n",
            "\n",
            "[%] Downloading Image #6 from https://ww1.prweb.com/prfiles/2011/10/12/8875010/Washington45.jpg\n",
            "[!] Issue getting: https://ww1.prweb.com/prfiles/2011/10/12/8875010/Washington45.jpg\n",
            "[!] Error:: HTTP Error 503: Service Unavailable\n",
            "[%] Downloading Image #6 from https://www.oceanlight.com/stock-photo/elephant-seal-bellowing-photograph-15387-870769.jpg\n",
            "[%] File Downloaded !\n",
            "\n",
            "[%] Downloading Image #7 from https://www.anime-planet.com/images/characters/warrior-goblin-slayer-152601.jpg\n",
            "[%] File Downloaded !\n",
            "\n",
            "[%] Downloading Image #8 from https://thumbs.dreamstime.com/x/sexy-cowgirl-5826472.jpg\n",
            "[%] File Downloaded !\n",
            "\n",
            "[%] Downloading Image #9 from http://www.skullspiration.com/wp-content/uploads/2014/10/skeleton-horse-e1414431246685.jpg\n",
            "[%] File Downloaded !\n",
            "\n",
            "\n",
            "\n",
            "[!!]Indexing page: 2\n",
            "\n",
            "[%] Indexed 10 Images on Page 2.\n",
            "\n",
            "===============================================\n",
            "\n",
            "[%] Downloading Image #10 from https://www.wallpapersdsc.net/wp-content/uploads/2020/03/Highland-Cow-Wallpapers-HQ.jpg\n",
            "[%] File Downloaded !\n",
            "\n",
            "[%] Downloading Image #11 from http://medicalpicturesinfo.com/files/wp-content/uploads/2011/11/Male-Breast-Cancer-3.jpg\n",
            "[%] File Downloaded !\n",
            "\n",
            "[%] Downloading Image #12 from https://www.soldierx.com/system/files/hdb/gratte.jpg\n",
            "[%] File Downloaded !\n",
            "\n",
            "[%] Downloading Image #13 from http://4.bp.blogspot.com/-H2hhastXR64/T0-kVniOXwI/AAAAAAAAAH0/UeWnKPGJAZI/s320/photo-3.JPG\n",
            "[%] File Downloaded !\n",
            "\n",
            "[%] Downloading Image #14 from https://fs19.lt/wp-content/uploads/2018/12/Ravenport-4.jpg\n",
            "[%] File Downloaded !\n",
            "\n",
            "[%] Downloading Image #15 from https://www.minnesotawildflowers.info/udata/r9ndp23q/pd/angelica-atropurpurea-12-21.jpg\n",
            "[%] File Downloaded !\n",
            "\n",
            "[%] Downloading Image #16 from http://www.americansuburbx.com/wp-content/uploads/2019/03/33-Custom-1.jpg\n",
            "[%] File Downloaded !\n",
            "\n",
            "[%] Downloading Image #17 from http://dwgyu36up6iuz.cloudfront.net/heru80fdn/image/upload/c_fill,d_placeholder_thescene.jpg,fl_progressive,g_face,h_450,q_80,w_800/v1495045771/bonappetit_how-to-butcher-cow-cut-meat.jpg\n",
            "[%] File Downloaded !\n",
            "\n",
            "[%] Downloading Image #18 from http://www.cowboysaddlery.com/images/Bras/LG/KVOrchidTooledBra5.jpg\n",
            "[%] File Downloaded !\n",
            "\n",
            "[%] Downloading Image #19 from http://d2lzb5v10mb0lj.cloudfront.net/covers/600/29/29668.jpg\n",
            "[%] File Downloaded !\n",
            "\n",
            "\n",
            "\n",
            "[!!]Indexing page: 3\n",
            "\n",
            "[%] Indexed 9 Images on Page 3.\n",
            "\n",
            "===============================================\n",
            "\n",
            "[%] Downloading Image #20 from https://www.soldierx.com/system/files/hdb/gratte.jpg\n",
            "[%] File Downloaded !\n",
            "\n",
            "[%] Downloading Image #21 from http://4.bp.blogspot.com/-H2hhastXR64/T0-kVniOXwI/AAAAAAAAAH0/UeWnKPGJAZI/s320/photo-3.JPG\n",
            "[%] File Downloaded !\n",
            "\n",
            "[%] Downloading Image #22 from http://d2lzb5v10mb0lj.cloudfront.net/covers/600/29/29668.jpg\n",
            "[%] File Downloaded !\n",
            "\n",
            "[%] Downloading Image #23 from https://www.minnesotawildflowers.info/udata/r9ndp23q/pd/angelica-atropurpurea-12-21.jpg\n",
            "[%] File Downloaded !\n",
            "\n",
            "[%] Downloading Image #24 from http://dwgyu36up6iuz.cloudfront.net/heru80fdn/image/upload/c_fill,d_placeholder_thescene.jpg,fl_progressive,g_face,h_450,q_80,w_800/v1495045771/bonappetit_how-to-butcher-cow-cut-meat.jpg\n",
            "[%] File Downloaded !\n",
            "\n",
            "[%] Downloading Image #25 from https://fs19.lt/wp-content/uploads/2018/12/Ravenport-4.jpg\n",
            "[%] File Downloaded !\n",
            "\n",
            "[%] Downloading Image #26 from http://medicalpicturesinfo.com/files/wp-content/uploads/2011/08/Accessory-Nipple-3.jpg\n",
            "[%] File Downloaded !\n",
            "\n",
            "[%] Downloading Image #27 from http://www.cowboysaddlery.com/images/Bras/LG/KVOrchidTooledBra5.jpg\n",
            "[%] File Downloaded !\n",
            "\n",
            "[%] Downloading Image #28 from http://www.americansuburbx.com/wp-content/uploads/2019/03/33-Custom-1.jpg\n",
            "[%] File Downloaded !\n",
            "\n",
            "\n",
            "\n",
            "[!!]Indexing page: 4\n",
            "\n",
            "[%] Indexed 8 Images on Page 4.\n",
            "\n",
            "===============================================\n",
            "\n",
            "[%] Downloading Image #29 from http://4.bp.blogspot.com/-H2hhastXR64/T0-kVniOXwI/AAAAAAAAAH0/UeWnKPGJAZI/s320/photo-3.JPG\n",
            "[%] File Downloaded !\n",
            "\n",
            "[%] Downloading Image #30 from http://medicalpicturesinfo.com/files/wp-content/uploads/2011/08/Accessory-Nipple-3.jpg\n",
            "[%] File Downloaded !\n",
            "\n",
            "\n",
            "\n",
            "[%] Done. Downloaded 30 images.\n",
            "\n",
            "===============================================\n",
            "\n",
            "time: 8.88 s (started: 2021-05-24 07:28:00 +00:00)\n"
          ],
          "name": "stdout"
        }
      ]
    },
    {
      "cell_type": "code",
      "metadata": {
        "colab": {
          "base_uri": "https://localhost:8080/"
        },
        "id": "f2mWccwCagbg",
        "outputId": "9cfdc2bd-daa5-4e2e-fca3-4025ea222e05"
      },
      "source": [
        " import os\n",
        " import matplotlib.pyplot as plt\n",
        " import numpy as np\n",
        " from skimage.io import imread\n",
        " from skimage.transform import resize "
      ],
      "execution_count": 51,
      "outputs": [
        {
          "output_type": "stream",
          "text": [
            "time: 2.48 ms (started: 2021-05-24 07:28:09 +00:00)\n"
          ],
          "name": "stdout"
        }
      ]
    },
    {
      "cell_type": "code",
      "metadata": {
        "colab": {
          "base_uri": "https://localhost:8080/"
        },
        "id": "aJa5qj_EGz4r",
        "outputId": "7732276a-fb9e-4543-d450-6b246e54beb1"
      },
      "source": [
        "target=[]\n",
        "images=[]\n",
        "flat_data=[]\n",
        "\n",
        "DATADIR= '/content/images'\n",
        "CATEGORIES = ['dog','cute cat','cow']\n",
        "for category in CATEGORIES:\n",
        "   class_num = CATEGORIES.index(category)\n",
        "   path=os.path.join(DATADIR,category)\n",
        "   for img in os.listdir(path):\n",
        "     img_array = imread(os.path.join(path,img))  \n",
        "     img_resized=resize(img_array,(150,150,3))\n",
        "     flat_data.append(img_resized.flatten())\n",
        "     images.append(img_resized)\n",
        "     target.append(class_num)\n",
        "\n",
        "flat_data= np.array(flat_data)\n",
        "target= np.array(target)\n",
        "images= np.array(images)"
      ],
      "execution_count": 52,
      "outputs": [
        {
          "output_type": "stream",
          "text": [
            "time: 29.4 s (started: 2021-05-24 07:28:09 +00:00)\n"
          ],
          "name": "stdout"
        }
      ]
    },
    {
      "cell_type": "code",
      "metadata": {
        "colab": {
          "base_uri": "https://localhost:8080/"
        },
        "id": "i8NuCRfRHW4R",
        "outputId": "34447bd3-7ced-49ac-9b51-bb87a1b3ef64"
      },
      "source": [
        "flat_data[0]"
      ],
      "execution_count": 53,
      "outputs": [
        {
          "output_type": "execute_result",
          "data": {
            "text/plain": [
              "array([0.10588235, 0.17973856, 0.23529412, ..., 0.03513072, 0.01568627,\n",
              "       0.00392157])"
            ]
          },
          "metadata": {
            "tags": []
          },
          "execution_count": 53
        },
        {
          "output_type": "stream",
          "text": [
            "time: 5 ms (started: 2021-05-24 07:28:39 +00:00)\n"
          ],
          "name": "stdout"
        }
      ]
    },
    {
      "cell_type": "code",
      "metadata": {
        "colab": {
          "base_uri": "https://localhost:8080/",
          "height": 300
        },
        "id": "Mt4-hVwFLGg_",
        "outputId": "c6fb355d-4893-4398-da3b-0b7e346c21e4"
      },
      "source": [
        "unique,count = np.unique(target,return_counts=True)\n",
        "plt.bar(CATEGORIES,count)"
      ],
      "execution_count": 54,
      "outputs": [
        {
          "output_type": "execute_result",
          "data": {
            "text/plain": [
              "<BarContainer object of 3 artists>"
            ]
          },
          "metadata": {
            "tags": []
          },
          "execution_count": 54
        },
        {
          "output_type": "display_data",
          "data": {
            "image/png": "[encoded data removed]",
            "text/plain": [
              "<Figure size 432x288 with 1 Axes>"
            ]
          },
          "metadata": {
            "tags": [],
            "needs_background": "light"
          }
        },
        {
          "output_type": "stream",
          "text": [
            "time: 177 ms (started: 2021-05-24 07:28:39 +00:00)\n"
          ],
          "name": "stdout"
        }
      ]
    },
    {
      "cell_type": "code",
      "metadata": {
        "colab": {
          "base_uri": "https://localhost:8080/"
        },
        "id": "wkFx6el0HXys",
        "outputId": "07edba69-e402-47df-92d9-42fbd212a5f4"
      },
      "source": [
        "from sklearn.model_selection import train_test_split\n",
        "x_train,x_test,y_train,y_test = train_test_split(flat_data,target,\n",
        "                                                 test_size=0.3,random_state=109)\n"
      ],
      "execution_count": 55,
      "outputs": [
        {
          "output_type": "stream",
          "text": [
            "time: 19.3 ms (started: 2021-05-24 07:28:39 +00:00)\n"
          ],
          "name": "stdout"
        }
      ]
    },
    {
      "cell_type": "code",
      "metadata": {
        "colab": {
          "base_uri": "https://localhost:8080/"
        },
        "id": "CfPeU2iiHXwQ",
        "outputId": "acf035e4-e659-4c3d-d5b5-7fcb02173370"
      },
      "source": [
        "from sklearn.model_selection import GridSearchCV\n",
        "from sklearn import svm\n",
        "param_grid= [\n",
        "               {'C':[1,10,100,1000],'kernel':['linear']},\n",
        "               {'C':[1,10,100,1000],'gamma':[0.001,0.0001],'kernel':['rbf']},\n",
        "]\n",
        "svc = svm.SVC(probability=True)\n",
        "clf = GridSearchCV(svc,param_grid)\n",
        "clf.fit(x_train,y_train) \n"
      ],
      "execution_count": 56,
      "outputs": [
        {
          "output_type": "execute_result",
          "data": {
            "text/plain": [
              "GridSearchCV(cv=None, error_score=nan,\n",
              "             estimator=SVC(C=1.0, break_ties=False, cache_size=200,\n",
              "                           class_weight=None, coef0=0.0,\n",
              "                           decision_function_shape='ovr', degree=3,\n",
              "                           gamma='scale', kernel='rbf', max_iter=-1,\n",
              "                           probability=True, random_state=None, shrinking=True,\n",
              "                           tol=0.001, verbose=False),\n",
              "             iid='deprecated', n_jobs=None,\n",
              "             param_grid=[{'C': [1, 10, 100, 1000], 'kernel': ['linear']},\n",
              "                         {'C': [1, 10, 100, 1000], 'gamma': [0.001, 0.0001],\n",
              "                          'kernel': ['rbf']}],\n",
              "             pre_dispatch='2*n_jobs', refit=True, return_train_score=False,\n",
              "             scoring=None, verbose=0)"
            ]
          },
          "metadata": {
            "tags": []
          },
          "execution_count": 56
        },
        {
          "output_type": "stream",
          "text": [
            "time: 1min 48s (started: 2021-05-24 07:28:39 +00:00)\n"
          ],
          "name": "stdout"
        }
      ]
    },
    {
      "cell_type": "code",
      "metadata": {
        "colab": {
          "base_uri": "https://localhost:8080/"
        },
        "id": "54Nh4Rp4HXtx",
        "outputId": "b8975bbe-582b-4d2d-fb4d-432ea1b91a4d"
      },
      "source": [
        "y_pred= clf.predict(x_test)\n",
        "y_pred"
      ],
      "execution_count": 57,
      "outputs": [
        {
          "output_type": "execute_result",
          "data": {
            "text/plain": [
              "array([1, 1, 1, 2, 1, 2, 1, 2, 1, 1, 2, 2, 2, 1, 2, 2, 1, 0, 0, 0, 1, 2,\n",
              "       0, 0, 0, 1, 0, 1, 0, 2, 0, 2])"
            ]
          },
          "metadata": {
            "tags": []
          },
          "execution_count": 57
        },
        {
          "output_type": "stream",
          "text": [
            "time: 166 ms (started: 2021-05-24 07:30:28 +00:00)\n"
          ],
          "name": "stdout"
        }
      ]
    },
    {
      "cell_type": "code",
      "metadata": {
        "colab": {
          "base_uri": "https://localhost:8080/"
        },
        "id": "Lc4qUnE3HXra",
        "outputId": "287c956c-1d6c-489a-9c3e-de4094e3227b"
      },
      "source": [
        "y_test"
      ],
      "execution_count": 58,
      "outputs": [
        {
          "output_type": "execute_result",
          "data": {
            "text/plain": [
              "array([0, 1, 0, 2, 1, 2, 1, 2, 1, 2, 1, 2, 2, 1, 0, 0, 0, 0, 1, 2, 2, 2,\n",
              "       1, 2, 0, 0, 0, 2, 1, 1, 1, 2])"
            ]
          },
          "metadata": {
            "tags": []
          },
          "execution_count": 58
        },
        {
          "output_type": "stream",
          "text": [
            "time: 5.24 ms (started: 2021-05-24 07:30:28 +00:00)\n"
          ],
          "name": "stdout"
        }
      ]
    },
    {
      "cell_type": "code",
      "metadata": {
        "colab": {
          "base_uri": "https://localhost:8080/"
        },
        "id": "OaD7Unu_HXpH",
        "outputId": "1a82f115-9f7f-483a-ad4e-a00711f7d92d"
      },
      "source": [
        "from sklearn.metrics import accuracy_score,confusion_matrix"
      ],
      "execution_count": 59,
      "outputs": [
        {
          "output_type": "stream",
          "text": [
            "time: 1.85 ms (started: 2021-05-24 07:30:28 +00:00)\n"
          ],
          "name": "stdout"
        }
      ]
    },
    {
      "cell_type": "code",
      "metadata": {
        "colab": {
          "base_uri": "https://localhost:8080/"
        },
        "id": "IXkvhAfVHXme",
        "outputId": "47779eb6-4dec-4231-f349-9f42fc66b48f"
      },
      "source": [
        "accuracy_score(y_pred,y_test)"
      ],
      "execution_count": 60,
      "outputs": [
        {
          "output_type": "execute_result",
          "data": {
            "text/plain": [
              "0.46875"
            ]
          },
          "metadata": {
            "tags": []
          },
          "execution_count": 60
        },
        {
          "output_type": "stream",
          "text": [
            "time: 6.18 ms (started: 2021-05-24 07:30:28 +00:00)\n"
          ],
          "name": "stdout"
        }
      ]
    },
    {
      "cell_type": "code",
      "metadata": {
        "colab": {
          "base_uri": "https://localhost:8080/"
        },
        "id": "PwxEsnR5HXj0",
        "outputId": "e4c2219e-9c55-4ae9-b223-cde20d2d067c"
      },
      "source": [
        "confusion_matrix(y_pred,y_test)"
      ],
      "execution_count": 61,
      "outputs": [
        {
          "output_type": "execute_result",
          "data": {
            "text/plain": [
              "array([[3, 4, 2],\n",
              "       [4, 5, 3],\n",
              "       [2, 2, 7]])"
            ]
          },
          "metadata": {
            "tags": []
          },
          "execution_count": 61
        },
        {
          "output_type": "stream",
          "text": [
            "time: 9.99 ms (started: 2021-05-24 07:30:28 +00:00)\n"
          ],
          "name": "stdout"
        }
      ]
    },
    {
      "cell_type": "code",
      "metadata": {
        "colab": {
          "base_uri": "https://localhost:8080/"
        },
        "id": "CnpyNFdQHXfp",
        "outputId": "2055deff-a42e-4a9e-b873-d4a930ebf8fe"
      },
      "source": [
        " import pickle\n",
        " pickle.dump(clf,open('img_model.p','wb'))"
      ],
      "execution_count": 62,
      "outputs": [
        {
          "output_type": "stream",
          "text": [
            "time: 64.5 ms (started: 2021-05-24 07:30:28 +00:00)\n"
          ],
          "name": "stdout"
        }
      ]
    },
    {
      "cell_type": "code",
      "metadata": {
        "colab": {
          "base_uri": "https://localhost:8080/"
        },
        "id": "Vof6FJwlHXO2",
        "outputId": "0fa602d7-42f5-4ebe-9f90-eab1c45df7f2"
      },
      "source": [
        "model=pickle.load(open('img_model.p','rb'))"
      ],
      "execution_count": 63,
      "outputs": [
        {
          "output_type": "stream",
          "text": [
            "time: 29 ms (started: 2021-05-24 07:30:28 +00:00)\n"
          ],
          "name": "stdout"
        }
      ]
    },
    {
      "cell_type": "code",
      "metadata": {
        "colab": {
          "base_uri": "https://localhost:8080/",
          "height": 339
        },
        "id": "mtnAoPnOXKsi",
        "outputId": "911ffec5-3e0a-4952-8117-207cdfb436e7"
      },
      "source": [
        "flat_data =[]\n",
        "url= input('Enter the URL ')\n",
        "img = imread(url)\n",
        "img_resized= resize(img,(150,150,3))\n",
        "flat_data.append(img_resized.flatten())\n",
        "flat_data = np.array(flat_data)\n",
        "print(img.shape)\n",
        "plt.imshow(img_resized)\n",
        "y_out = model.predict(flat_data)\n",
        "y_out = CATEGORIES[y_out[0]]\n",
        "print(f'PREDICTED OUTPUT: {y_out}')"
      ],
      "execution_count": 65,
      "outputs": [
        {
          "output_type": "stream",
          "text": [
            "Enter the URL https://th.bing.com/th/id/OIP.juRDDhOC5I1YTOgmxGDtXgHaHa?w=177&h=180&c=7&o=5&dpr=1.5&pid=1.7\n",
            "(270, 265, 3)\n",
            "PREDICTED OUTPUT: cow\n"
          ],
          "name": "stdout"
        },
        {
          "output_type": "display_data",
          "data": {
            "image/png": "[encoded data removed]",
            "text/plain": [
              "<Figure size 432x288 with 1 Axes>"
            ]
          },
          "metadata": {
            "tags": [],
            "needs_background": "light"
          }
        },
        {
          "output_type": "stream",
          "text": [
            "time: 27.6 s (started: 2021-05-24 07:34:47 +00:00)\n"
          ],
          "name": "stdout"
        }
      ]
    },
    {
      "cell_type": "code",
      "metadata": {
        "id": "l9RmuAaXXKqN"
      },
      "source": [
        ""
      ],
      "execution_count": 64,
      "outputs": []
    },
    {
      "cell_type": "code",
      "metadata": {
        "id": "uMIikHU9XKni"
      },
      "source": [
        ""
      ],
      "execution_count": 64,
      "outputs": []
    },
    {
      "cell_type": "code",
      "metadata": {
        "id": "83LWB8p_XKk7"
      },
      "source": [
        ""
      ],
      "execution_count": 64,
      "outputs": []
    },
    {
      "cell_type": "code",
      "metadata": {
        "id": "-JOpY_D7XKiD"
      },
      "source": [
        ""
      ],
      "execution_count": 64,
      "outputs": []
    },
    {
      "cell_type": "code",
      "metadata": {
        "id": "GlcCnXG5XKfN"
      },
      "source": [
        ""
      ],
      "execution_count": 64,
      "outputs": []
    },
    {
      "cell_type": "code",
      "metadata": {
        "id": "9C5vqI-RXKcQ"
      },
      "source": [
        ""
      ],
      "execution_count": 64,
      "outputs": []
    },
    {
      "cell_type": "code",
      "metadata": {
        "id": "ZwpoMZKFXKZw"
      },
      "source": [
        ""
      ],
      "execution_count": 64,
      "outputs": []
    },
    {
      "cell_type": "code",
      "metadata": {
        "id": "KMSQg6p9XKWl"
      },
      "source": [
        ""
      ],
      "execution_count": 64,
      "outputs": []
    },
    {
      "cell_type": "code",
      "metadata": {
        "id": "t2E4x31XXKSr"
      },
      "source": [
        ""
      ],
      "execution_count": 64,
      "outputs": []
    },
    {
      "cell_type": "code",
      "metadata": {
        "id": "AbR3OT9JXKLP"
      },
      "source": [
        ""
      ],
      "execution_count": 64,
      "outputs": []
    },
    {
      "cell_type": "markdown",
      "metadata": {
        "id": "w3-b2jNKXYAY"
      },
      "source": [
        ""
      ]
    }
  ]
}